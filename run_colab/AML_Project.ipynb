{
  "nbformat": 4,
  "nbformat_minor": 0,
  "metadata": {
    "colab": {
      "provenance": []
    },
    "kernelspec": {
      "name": "python3",
      "display_name": "Python 3"
    },
    "language_info": {
      "name": "python"
    }
  },
  "cells": [
    {
      "cell_type": "code",
      "execution_count": null,
      "metadata": {
        "id": "VEyMCkpdaLrV"
      },
      "outputs": [],
      "source": [
        "# Mount your drive \n",
        "from google.colab import drive\n",
        "drive.mount('/content/gdrive')"
      ]
    },
    {
      "cell_type": "code",
      "source": [
        "# Change the path with yours\n",
        "%cd gdrive/My Drive/Courses/CS_5824_AML/Project"
      ],
      "metadata": {
        "id": "v2qOAPVCaU4x"
      },
      "execution_count": null,
      "outputs": []
    },
    {
      "cell_type": "code",
      "source": [
        "# Clone the git\n",
        "! git clone https://github.com/Sabiha1225/DeepChange.git"
      ],
      "metadata": {
        "id": "vXdsxGjxam2p"
      },
      "execution_count": null,
      "outputs": []
    },
    {
      "cell_type": "code",
      "source": [
        "# Requirements\n",
        "\n",
        "!pip install einops\n",
        "!pip install timm"
      ],
      "metadata": {
        "id": "ffG3npF5ca77"
      },
      "execution_count": null,
      "outputs": []
    },
    {
      "cell_type": "code",
      "source": [
        "# Change path to your data file location in data_config.py\n",
        "# Change path to your checkpoint and vis directory inside main_cd.py and eval_cd.py\n",
        "# put datasets DMINet/data/CD in this directory"
      ],
      "metadata": {
        "id": "ki8IjKfthRcG"
      },
      "execution_count": null,
      "outputs": []
    },
    {
      "cell_type": "code",
      "source": [
        "# Train the model with training data sets\n",
        "! python /content/gdrive/MyDrive/Courses/CS_5824_AML/Project1/DMINet/main_cd.py"
      ],
      "metadata": {
        "id": "NalgXY23cqAi"
      },
      "execution_count": null,
      "outputs": []
    },
    {
      "cell_type": "code",
      "source": [
        "# Test the model with testing data sets\n",
        "!python /content/gdrive/MyDrive/Courses/CS_5824_AML/Project1/DMINet/eval_cd.py"
      ],
      "metadata": {
        "id": "qI318Sypczzp"
      },
      "execution_count": null,
      "outputs": []
    }
  ]
}